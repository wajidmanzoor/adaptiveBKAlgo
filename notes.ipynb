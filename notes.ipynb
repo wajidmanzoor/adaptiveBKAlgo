{
 "cells": [
  {
   "cell_type": "markdown",
   "id": "96694798",
   "metadata": {},
   "source": [
    "# Problem Statement"
   ]
  },
  {
   "cell_type": "markdown",
   "id": "930dd4a3",
   "metadata": {},
   "source": [
    "A clique in an undirected graph $𝐺=(𝑉,𝐸)$ is a subset of vertices $C \\subset V$ such that every pair of vertices in $C$ is connected by an edge.\n",
    "A maximal clique is a clique that cannot be extended by including any adjacent vertex , i.e., it’s not contained within any larger clique."
   ]
  },
  {
   "cell_type": "markdown",
   "id": "c8015676",
   "metadata": {},
   "source": [
    "# reorder implementation \n",
    "\n",
    "1. Array Visited, containes verticies that where picked to expand the trees ast start \n",
    "\n",
    "2. order, maintains a global order of visted to enumerate over \n",
    "    - Not visited, not in clique\n",
    "    - Not visited, in clique\n",
    "    - visited, not in clique\n",
    "    - visited, in clique \n",
    "\n"
   ]
  },
  {
   "cell_type": "markdown",
   "id": "00cbab84",
   "metadata": {},
   "source": [
    "1. Start with a vertex, expand Depth first\n",
    "    - if found a maximal clique, reorder based on tier \n",
    "    - if found duplicated, track back and depth first again \n",
    "    - if no clique found, reoder by puting vertx at end \n",
    "2. add vertex to visited \n",
    "3. repeat with first vertex from order\n",
    "4. stop when all vertices are visited "
   ]
  },
  {
   "cell_type": "markdown",
   "id": "b0612001",
   "metadata": {},
   "source": [
    "We store the cliques in a data structure \n",
    "each vertex is mapped to its clique "
   ]
  },
  {
   "cell_type": "markdown",
   "id": "22da9e7c",
   "metadata": {},
   "source": [
    "![img](pics/G1.jpeg)"
   ]
  },
  {
   "cell_type": "markdown",
   "id": "47f03c89",
   "metadata": {},
   "source": [
    "![img](pics/order1.jpeg)"
   ]
  },
  {
   "cell_type": "markdown",
   "id": "fe8c18f7",
   "metadata": {},
   "source": [
    "![img](/Users/wajid/Desktop/Research/Projects/BK/adaptiveBKAlgo/pics/order2.jpeg)"
   ]
  },
  {
   "cell_type": "markdown",
   "id": "bac9b1b1",
   "metadata": {},
   "source": [
    "![img](pics/order3.jpeg)"
   ]
  },
  {
   "cell_type": "code",
   "execution_count": null,
   "id": "19622653",
   "metadata": {
    "vscode": {
     "languageId": "plaintext"
    }
   },
   "outputs": [],
   "source": []
  }
 ],
 "metadata": {
  "language_info": {
   "name": "python"
  }
 },
 "nbformat": 4,
 "nbformat_minor": 5
}
