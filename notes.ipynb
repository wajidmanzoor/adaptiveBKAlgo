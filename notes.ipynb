{
 "cells": [
  {
   "cell_type": "markdown",
   "id": "96694798",
   "metadata": {},
   "source": [
    "# Problem Statement"
   ]
  },
  {
   "cell_type": "markdown",
   "id": "930dd4a3",
   "metadata": {},
   "source": [
    "A clique in an undirected graph $𝐺=(𝑉,𝐸)$ is a subset of vertices $C \\subset V$ such that every pair of vertices in $C$ is connected by an edge.\n",
    "A maximal clique is a clique that cannot be extended by including any adjacent vertex , i.e., it’s not contained within any larger clique."
   ]
  },
  {
   "cell_type": "markdown",
   "id": "aa5dfd7b",
   "metadata": {},
   "source": [
    "# Background\n",
    "1. Let M(G) denote the set of all maximal cliques of G. It is known that there exist n-vertex graphs with $3^{n∕3}$ maximal cliques\n",
    "2. Worst case of running pivot is $3^{n/3}$, but is faster in practice on sparse graphs"
   ]
  },
  {
   "cell_type": "markdown",
   "id": "d8e6bf92",
   "metadata": {},
   "source": [
    "## Pruning Rules\n",
    "1. Pivot in Bron–Kerbosch (Tomita variant)\n",
    "\n",
    "- The pivot is used to minimize the number of recursive calls.\n",
    "- A pivot vertex `u` is selected from `P ∪ X`, typically the one with the maximum number of neighbors in `P`\n",
    "- The algorithm then explores only vertices in `P` that are *not* adjacent to `u`** (i.e., `P \\ N(u)`).\n",
    "- **Might not be possible in implement in our**\n",
    "\n",
    "\n",
    "2. Remove vertices with degree less than current clique size, **can be easily implemented**\n",
    "3. Connected Component Decomposition \n",
    "   - Decomposing `P` into connected subgraphs ensures each component is processed independently.\n",
    "   - **Can be implemented on `ExpandTo`**.\n",
    "4. If vertex v has a neighborhood that is a subset of vertex u’s neighborhood (i.e., $N(v)⊆N(u)$, then every clique that contains v also contains u.\n",
    "Hence, v can never generate a new maximal clique that doesn’t already include u. **Can we used initially to shrink ExpandFrom**\n"
   ]
  },
  {
   "cell_type": "markdown",
   "id": "d1073b34",
   "metadata": {},
   "source": [
    "# New Impl"
   ]
  },
  {
   "cell_type": "markdown",
   "id": "f024d35c",
   "metadata": {},
   "source": [
    "**Intermediate Arrays**\n",
    "- **ExpandFrom** → vertices used as starting points for expansion  \n",
    "- **ExpandMid** → intermediate vertices paired with the current start vertex  \n",
    "- **ExpandTo** → vertices used to expand from the current pair  \n",
    "- **Visited** → vertices already used as starting points  \n",
    "\n",
    "\n",
    "### **Algorithm Steps**\n",
    "\n",
    "1. **Initialization**\n",
    "   - `ExpandFrom ← all vertices`\n",
    "   - `ExpandTo ← all vertices except the first`\n",
    "   - `ExpandMid ← ∅`\n",
    "\n",
    "2. **Termination Condition**\n",
    "   - If `ExpandFrom` or `ExpandTo` is empty → **Stop**\n",
    "\n",
    "3. **Expansion Phase**\n",
    "   - Pick the first vertex `v` from `ExpandFrom`\n",
    "   - Add `v` to the current clique\n",
    "\n",
    "4. **Handle Intermediate Vertex**\n",
    "   - If `ExpandMid ≠ ∅`:\n",
    "     - Try adding the vertex in `ExpandMid` to the current clique  \n",
    "     - If addition fails:\n",
    "       - Remove that vertex from `ExpandMid`\n",
    "       - Move the first vertex from `ExpandTo` into `ExpandMid`\n",
    "       - **Recurse / Call Again**\n",
    "     - Else (if addition succeeds):\n",
    "       - Continue expanding\n",
    "\n",
    "5. **Expand Using `ExpandTo`**\n",
    "   - Try adding vertices from `ExpandTo` to the current clique one by one  \n",
    "   - If addition fails for a vertex, skip to the next\n",
    "\n",
    "6. **Clique Found**\n",
    "   - If `|clique| > 0`:\n",
    "     - Record the clique vertices  \n",
    "     - `ExpandFrom ← clique vertices`\n",
    "     - `ExpandMid ← first unvisited vertex in clique`\n",
    "     - `ExpandTo ← remaining unvisited vertices`\n",
    "     - Mark the current vertex as **Visited**\n",
    "     - **Recurse / Call Again**\n",
    "\n",
    "7. **No Clique Found (Mid not empty)**\n",
    "   - Move the first vertex from `ExpandTo` → `ExpandMid`\n",
    "   - **Recurse / Call Again**\n",
    "\n",
    "8. **No Clique Found (Mid empty)**\n",
    "   - Remove the first vertex from both `ExpandFrom` and `ExpandTo`\n",
    "   - **Recurse / Call Again**\n"
   ]
  },
  {
   "cell_type": "markdown",
   "id": "34aa8a0c",
   "metadata": {},
   "source": [
    "![img](pics/neworder.jpeg)"
   ]
  },
  {
   "cell_type": "markdown",
   "id": "245a4fd1",
   "metadata": {},
   "source": [
    "![img](pics/neworder2.jpeg)"
   ]
  },
  {
   "cell_type": "markdown",
   "id": "6c700e67",
   "metadata": {},
   "source": []
  }
 ],
 "metadata": {
  "kernelspec": {
   "display_name": "Python 3",
   "language": "python",
   "name": "python3"
  },
  "language_info": {
   "name": "python",
   "version": "3.13.5"
  }
 },
 "nbformat": 4,
 "nbformat_minor": 5
}
